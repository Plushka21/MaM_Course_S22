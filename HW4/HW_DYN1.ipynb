{
  "nbformat": 4,
  "nbformat_minor": 0,
  "metadata": {
    "colab": {
      "name": "HW_DYN1.ipynb",
      "provenance": []
    },
    "kernelspec": {
      "name": "python3",
      "display_name": "Python 3"
    },
    "language_info": {
      "name": "python"
    }
  },
  "cells": [
    {
      "cell_type": "markdown",
      "source": [
        "# Mechanics and machines\n",
        "# Homework. Dynamic of 4-bar linkage\n",
        "-----\n",
        "## Anton Buguev\n",
        "## BS19-RO-01\n",
        "### 03.03.2022"
      ],
      "metadata": {
        "id": "yfyXXk50Rit-"
      }
    },
    {
      "cell_type": "markdown",
      "source": [
        "## Kinematics\n",
        "### Range of motion"
      ],
      "metadata": {
        "id": "5WumAKbrRbHG"
      }
    },
    {
      "cell_type": "code",
      "execution_count": 1,
      "metadata": {
        "id": "Olsozgl7N1fv"
      },
      "outputs": [],
      "source": [
        "import numpy as np\n",
        "\n",
        "a = 90\n",
        "b = np.sqrt(2*30**2)\n",
        "c = np.sqrt(20**2+75**2)\n",
        "d = np.sqrt(50**2+45**2)"
      ]
    },
    {
      "cell_type": "code",
      "source": [
        "alpha_c = np.arctan(50/45)\n",
        "print(f\"alpha_c = {np.degrees(alpha_c)} deg\")"
      ],
      "metadata": {
        "colab": {
          "base_uri": "https://localhost:8080/"
        },
        "id": "3yd5m-qOtPwc",
        "outputId": "838d27f7-a7a4-4bab-d152-af9d042a4fc3"
      },
      "execution_count": 2,
      "outputs": [
        {
          "output_type": "stream",
          "name": "stdout",
          "text": [
            "alpha_c = 48.01278750418334 deg\n"
          ]
        }
      ]
    },
    {
      "cell_type": "code",
      "source": [
        "beta_1c = np.arccos((a**2+d**2-(b+c)**2)/(2*a*d))\n",
        "print(f\"beta_1c = {np.degrees(beta_1c)} deg\")"
      ],
      "metadata": {
        "colab": {
          "base_uri": "https://localhost:8080/"
        },
        "id": "tOl0wk4LtfCU",
        "outputId": "d759b857-1090-4ca8-e497-bb96b052aebd"
      },
      "execution_count": 3,
      "outputs": [
        {
          "output_type": "stream",
          "name": "stdout",
          "text": [
            "beta_1c = 98.48389805041687 deg\n"
          ]
        }
      ]
    },
    {
      "cell_type": "code",
      "source": [
        "theta_1c = beta_1c - alpha_c\n",
        "print(f\"theta_1c = {np.degrees(theta_1c)} deg\")"
      ],
      "metadata": {
        "colab": {
          "base_uri": "https://localhost:8080/"
        },
        "id": "y_pyCLoctyyD",
        "outputId": "750d0f14-f3d2-463a-9249-bc909fa7caf2"
      },
      "execution_count": 4,
      "outputs": [
        {
          "output_type": "stream",
          "name": "stdout",
          "text": [
            "theta_1c = 50.471110546233525 deg\n"
          ]
        }
      ]
    },
    {
      "cell_type": "code",
      "source": [
        "gamma_c = np.arcsin(30/b)\n",
        "print(f\"gamma_c = {np.degrees(gamma_c)} deg\")"
      ],
      "metadata": {
        "colab": {
          "base_uri": "https://localhost:8080/"
        },
        "id": "-JeeZSDjt8Nk",
        "outputId": "5f6c98fe-9fed-408e-d2f5-43cb7c119a4b"
      },
      "execution_count": 5,
      "outputs": [
        {
          "output_type": "stream",
          "name": "stdout",
          "text": [
            "gamma_c = 44.99999999999999 deg\n"
          ]
        }
      ]
    },
    {
      "cell_type": "code",
      "source": [
        "e_sq = b**2 + c**2 - 2*b * c*np.cos(gamma_c)\n",
        "print(f\"e^2 = {e_sq} mm^2\")"
      ],
      "metadata": {
        "colab": {
          "base_uri": "https://localhost:8080/"
        },
        "id": "_QVNCiO0uQPD",
        "outputId": "7220dd93-e7c5-43f5-d653-c88252a6fe48"
      },
      "execution_count": 6,
      "outputs": [
        {
          "output_type": "stream",
          "name": "stdout",
          "text": [
            "e^2 = 3167.7475911219935 mm^2\n"
          ]
        }
      ]
    },
    {
      "cell_type": "code",
      "source": [
        "beta_2c = np.arccos((a**2+d**2-e_sq)/(2*a*d))\n",
        "print(f\"beta_2c = {np.degrees(beta_2c)} deg\")"
      ],
      "metadata": {
        "colab": {
          "base_uri": "https://localhost:8080/"
        },
        "id": "jCV41UqWukl6",
        "outputId": "072ecad9-cf24-48f4-e5bc-9e53076a4cf4"
      },
      "execution_count": 7,
      "outputs": [
        {
          "output_type": "stream",
          "name": "stdout",
          "text": [
            "beta_2c = 38.64246955819602 deg\n"
          ]
        }
      ]
    },
    {
      "cell_type": "code",
      "source": [
        "theta_2c = abs(beta_2c - alpha_c)\n",
        "print(f\"theta_2c = {np.degrees(theta_2c)} deg\")"
      ],
      "metadata": {
        "colab": {
          "base_uri": "https://localhost:8080/"
        },
        "id": "UBHhIXDeusv7",
        "outputId": "ac9f1c5b-28a7-4b86-a419-834c09028d1a"
      },
      "execution_count": 8,
      "outputs": [
        {
          "output_type": "stream",
          "name": "stdout",
          "text": [
            "theta_2c = 9.370317945987319 deg\n"
          ]
        }
      ]
    },
    {
      "cell_type": "code",
      "source": [
        "theta_c = theta_1c + theta_2c\n",
        "print(f\"Total range: {np.degrees(theta_c)} deg\")"
      ],
      "metadata": {
        "colab": {
          "base_uri": "https://localhost:8080/"
        },
        "id": "b5x5BdG-u5rz",
        "outputId": "de9b49c3-5a15-4c0f-eb94-ad4f1bbb3089"
      },
      "execution_count": 10,
      "outputs": [
        {
          "output_type": "stream",
          "name": "stdout",
          "text": [
            "Total range: 59.84142849222085 deg\n"
          ]
        }
      ]
    }
  ]
}